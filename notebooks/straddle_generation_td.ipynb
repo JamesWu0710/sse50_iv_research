{
 "cells": [
  {
   "cell_type": "markdown",
   "metadata": {},
   "source": [
    "# 生成straddle信息, trading day version"
   ]
  },
  {
   "cell_type": "code",
   "execution_count": 1,
   "metadata": {
    "ExecuteTime": {
     "end_time": "2023-03-08T02:15:39.377230Z",
     "start_time": "2023-03-08T02:15:37.624710Z"
    }
   },
   "outputs": [],
   "source": [
    "import pandas as pd\n",
    "import numpy as np\n",
    "import os\n",
    "from tqdm import tqdm\n",
    "from scipy import interpolate\n",
    "import math\n",
    "from scipy.integrate import quad\n",
    "import Options\n",
    "from matplotlib import pyplot as plt\n",
    "import datetime\n",
    "import time\n",
    "import tushare"
   ]
  },
  {
   "cell_type": "code",
   "execution_count": 17,
   "metadata": {
    "ExecuteTime": {
     "end_time": "2023-03-08T02:20:08.155203Z",
     "start_time": "2023-03-08T02:20:07.368068Z"
    }
   },
   "outputs": [],
   "source": [
    "token = '37f756066bdfd9e6973cc51e088dddd1f3576f970fe77da55592be27'\n",
    "tushare.set_token(token)\n",
    "pro = tushare.pro_api(token)\n",
    "\n",
    "trading_days = pro.query('trade_cal',\n",
    "                         exchange='SSE',\n",
    "                         start_date='20150101',\n",
    "                         end_date='20220101')\n",
    "num_tds = trading_days.iloc[np.where(trading_days['is_open'])].cal_date.values\n",
    "trading_days = pd.to_datetime(trading_days.iloc[np.where(\n",
    "    trading_days['is_open'])].cal_date).astype(str).reset_index(\n",
    "        drop=True).values[::-1]"
   ]
  },
  {
   "cell_type": "code",
   "execution_count": 18,
   "metadata": {
    "ExecuteTime": {
     "end_time": "2023-03-08T02:20:10.426596Z",
     "start_time": "2023-03-08T02:20:08.157238Z"
    }
   },
   "outputs": [],
   "source": [
    "all_info = pd.read_csv(\"cleaned_data_50ETF_option.csv\", low_memory=False)\n",
    "shibor_info = pd.read_csv(\"combined_SHIBOR.csv\")\n",
    "index_info = pd.read_csv('data_50ETF_index.csv')\n",
    "index_info = index_info[index_info.date >= all_info.date[0]].reset_index(\n",
    "    drop=True)\n",
    "\n",
    "all_info['ukey'] = all_info.code.apply(lambda x: int(x.split(\".\")[0]))\n",
    "\n",
    "op_info = pd.read_csv('etf_options.csv')\n",
    "op_info['ukey'] = op_info.ukey.apply(lambda x: int(x[2:]))\n",
    "op_info = op_info[['DataDate', 'open', 'ukey']]\n",
    "op_info.columns = ['date', 'open', 'ukey']\n",
    "\n",
    "all_info = all_info.merge(op_info, on=['ukey', 'date'])"
   ]
  },
  {
   "cell_type": "code",
   "execution_count": 19,
   "metadata": {
    "ExecuteTime": {
     "end_time": "2023-03-08T02:21:20.722165Z",
     "start_time": "2023-03-08T02:20:10.429595Z"
    }
   },
   "outputs": [
    {
     "name": "stderr",
     "output_type": "stream",
     "text": [
      "100%|██████████████████████████████████████████████████████████████████████████████| 1504/1504 [01:10<00:00, 21.41it/s]\n"
     ]
    }
   ],
   "source": [
    "shibor_dates = np.array([1, 5, 10, 21, 63, 126, 189, 252])\n",
    "info_dict = {'date': [], 'exe_date': [], 'implied_vol': []}\n",
    "trading_dates = all_info.date.unique()\n",
    "indexes = index_info.close.values\n",
    "\n",
    "\n",
    "def abs_diff(x):\n",
    "    s = x.values[0]\n",
    "    for k in range(1, len(x)):\n",
    "        s -= x.values[k]\n",
    "    return np.abs(s)\n",
    "\n",
    "\n",
    "implied_index = []\n",
    "case1, case2 = [], []\n",
    "all_dict = {day: [] for day in trading_dates}\n",
    "all_tuples = []\n",
    "unds = {'date': [], 'mat': [], 'und': []}\n",
    "ptm_df = pd.DataFrame({'dtm': [], 'call_imp': [], 'put_imp': []})\n",
    "for td in tqdm(trading_dates):\n",
    "\n",
    "    td_index = np.where(trading_days == td)[0][0]\n",
    "    td_shibor = shibor_info[shibor_info.date == td].iloc[0].values[1:]\n",
    "\n",
    "    shibor_helper = interpolate.interp1d(shibor_dates,\n",
    "                                         td_shibor,\n",
    "                                         kind='slinear')\n",
    "\n",
    "    td_info = all_info[all_info.date == td]\n",
    "\n",
    "    td_mats = np.sort(td_info.exe_enddate.unique())\n",
    "\n",
    "    td_shibor = shibor_info[shibor_info.date == td].values[0][1:]\n",
    "\n",
    "    td_shibor = td_shibor[-1] / 100\n",
    "\n",
    "    temp_imp = []\n",
    "    for maturity in td_mats:\n",
    "\n",
    "        mt_index = np.where(trading_days == maturity)[0][0]\n",
    "\n",
    "        ptmday = mt_index - td_index + 1\n",
    "\n",
    "        mat_info = td_info[td_info.exe_enddate == maturity]\n",
    "        available_prices = mat_info.exe_price.sort_values().unique()\n",
    "        atm = mat_info.groupby(\"exe_price\").apply(\n",
    "            lambda x: abs_diff(x['close'])).idxmin()\n",
    "        call = mat_info[(mat_info.exe_price == atm)\n",
    "                        & (mat_info.exe_mode == 'call')]\n",
    "        put = mat_info[(mat_info.exe_price == atm)\n",
    "                       & (mat_info.exe_mode == 'put')]\n",
    "\n",
    "        cid, pid = call.code.values[0], put.code.values[0]\n",
    "\n",
    "        discount = np.exp(-td_shibor * ptmday / 252)\n",
    "        implied_underlying = call.close.values[0] - put.close.values[\n",
    "            0] + atm * discount\n",
    "        temp_imp.append(implied_underlying)\n",
    "        option = Options.Strategy()\n",
    "        option.getData(atm, td_shibor, ptmday / 252, 0.2)\n",
    "        implied_vol = option.EuroCallIV(implied_underlying,\n",
    "                                        call.close.values[0])\n",
    "        implied_vol_p = option.EuroPutIV(implied_underlying,\n",
    "                                         put.close.values[0])\n",
    "\n",
    "        call_price = call.close.values[0]\n",
    "        put_price = put.close.values[0]\n",
    "\n",
    "        call_open = call.open.values[0]\n",
    "        put_open = put.open.values[0]\n",
    "\n",
    "        option.setSigma(implied_vol)\n",
    "        call_delta = option.EuroCallDelta(implied_underlying)\n",
    "\n",
    "        option.setSigma(implied_vol_p)\n",
    "        put_delta = option.EuroPutDelta(implied_underlying)\n",
    "        info_dict = {\n",
    "            'dtm': [ptmday],\n",
    "            'call_imp': [implied_vol],\n",
    "            'put_imp': [implied_vol_p],\n",
    "            'call_delta': [call_delta],\n",
    "            'put_delta': [put_delta],\n",
    "            'date': [td],\n",
    "            'exe_date': [maturity],\n",
    "            'call_code': [cid],\n",
    "            'put_code': [pid]\n",
    "        }\n",
    "        info_dict['call'] = call_price\n",
    "        info_dict['put'] = put_price\n",
    "        info_dict['call_open'] = call_open\n",
    "        info_dict['put_open'] = put_open\n",
    "        tmp = pd.DataFrame(info_dict)\n",
    "        ptm_df = pd.concat([ptm_df, tmp])\n",
    "        unds['date'].append(td)\n",
    "        unds['mat'].append(maturity)\n",
    "        unds['und'].append(implied_underlying)\n",
    "    implied_index.append(np.mean(temp_imp))"
   ]
  },
  {
   "cell_type": "code",
   "execution_count": 20,
   "metadata": {
    "ExecuteTime": {
     "end_time": "2023-03-08T02:24:54.750913Z",
     "start_time": "2023-03-08T02:24:54.733368Z"
    }
   },
   "outputs": [],
   "source": [
    "ptm_df = ptm_df.merge(pd.DataFrame({\n",
    "    'date': ptm_df['date'].unique().tolist(),\n",
    "    'stock_price': implied_index\n",
    "}), on='date')"
   ]
  },
  {
   "cell_type": "code",
   "execution_count": 21,
   "metadata": {
    "ExecuteTime": {
     "end_time": "2023-03-08T02:24:55.031749Z",
     "start_time": "2023-03-08T02:24:55.016709Z"
    }
   },
   "outputs": [],
   "source": [
    "options = ptm_df[['date', 'call_code', 'put_code', 'call_imp']]\n",
    "options = options[(options['date'] < '2021-04-14')]\n",
    "options.columns = ['date', 'call_code', 'put_code', 'imp']\n",
    "all_prices = all_info[['date', 'code', 'close', 'open']]\n",
    "all_prices.columns = ['tmr', 'code', 'next_close', 'next_open']"
   ]
  },
  {
   "cell_type": "code",
   "execution_count": 22,
   "metadata": {
    "ExecuteTime": {
     "end_time": "2023-03-08T02:24:58.938875Z",
     "start_time": "2023-03-08T02:24:55.203978Z"
    }
   },
   "outputs": [],
   "source": [
    "call_dir = 'new_td//call//'\n",
    "put_dir = 'new_td//put//'\n",
    "\n",
    "calls = ptm_df[[\n",
    "    'date', 'exe_date', 'call_code', 'call_imp', 'call_delta', 'call',\n",
    "    'call_open', 'stock_price', 'dtm'\n",
    "]].reset_index(drop=True)\n",
    "calls.columns = [\n",
    "    'date', 'exe_date', 'code', 'call_imp', 'call_delta', 'call_close',\n",
    "    'call_open', 'stock_price', 'dtm'\n",
    "]\n",
    "calls['tmr'] = calls.date.apply(\n",
    "    lambda x: trading_days[np.where(trading_days == x)[0] + 1][0])\n",
    "calls['weekday'] = pd.to_datetime(calls.date).apply(lambda x: x.weekday())\n",
    "calls = pd.merge(calls, all_prices, on=['tmr', 'code'])\n",
    "\n",
    "puts = ptm_df[[\n",
    "    'date', 'exe_date', 'put_code', 'put_imp', 'put_delta', 'put', 'put_open',\n",
    "    'stock_price', 'dtm'\n",
    "]].reset_index(drop=True)\n",
    "puts.columns = [\n",
    "    'date', 'exe_date', 'code', 'put_imp', 'put_delta', 'put_close',\n",
    "    'put_open', 'stock_price', 'dtm'\n",
    "]\n",
    "puts['tmr'] = puts.date.apply(\n",
    "    lambda x: trading_days[np.where(trading_days == x)[0] + 1][0])\n",
    "puts['weekday'] = pd.to_datetime(puts.date).apply(lambda x: x.weekday())\n",
    "puts = pd.merge(puts, all_prices, on=['tmr', 'code'])\n",
    "\n",
    "for k in calls.exe_date.unique():\n",
    "    selected = calls[calls['exe_date'] == k].reset_index(drop=True)\n",
    "    selected.to_csv(call_dir + 'info_{}.csv'.format(k), index=False)\n",
    "\n",
    "for k in puts.exe_date.unique():\n",
    "    selected = puts[puts['exe_date'] == k].reset_index(drop=True)\n",
    "    selected.to_csv(put_dir + 'info_{}.csv'.format(k), index=False)"
   ]
  },
  {
   "cell_type": "code",
   "execution_count": 23,
   "metadata": {
    "ExecuteTime": {
     "end_time": "2023-03-08T02:24:58.986770Z",
     "start_time": "2023-03-08T02:24:58.941729Z"
    }
   },
   "outputs": [],
   "source": [
    "calls = calls[[\n",
    "    'date', 'exe_date', 'dtm', 'weekday', 'call_imp', 'stock_price', 'code',\n",
    "    'call_delta', 'call_close', 'call_open', 'next_close', 'next_open'\n",
    "]]\n",
    "calls.columns = [\n",
    "    'date', 'exe_date', 'dtm', 'weekday', 'imp', 'stock_price', 'call_code',\n",
    "    'call_delta', 'call_close', 'call_open', 'call_next_close',\n",
    "    'call_next_open'\n",
    "]\n",
    "\n",
    "puts = puts[[\n",
    "    'date', 'exe_date', 'dtm', 'weekday', 'put_imp', 'stock_price', 'code',\n",
    "    'put_delta', 'put_close', 'put_open', 'next_close', 'next_open'\n",
    "]]\n",
    "puts.columns = [\n",
    "    'date', 'exe_date', 'dtm', 'weekday', 'imp', 'stock_price', 'put_code',\n",
    "    'put_delta', 'put_close', 'put_open', 'put_next_close', 'put_next_open'\n",
    "]\n",
    "\n",
    "straddles = pd.merge(\n",
    "    calls, puts, on=['date', 'exe_date', 'dtm', 'weekday', 'stock_price', 'imp'])"
   ]
  },
  {
   "cell_type": "code",
   "execution_count": 24,
   "metadata": {
    "ExecuteTime": {
     "end_time": "2023-03-08T02:25:08.817325Z",
     "start_time": "2023-03-08T02:25:08.628512Z"
    }
   },
   "outputs": [],
   "source": [
    "straddles.to_csv('all_straddles_td.csv', index=False)"
   ]
  }
 ],
 "metadata": {
  "kernelspec": {
   "display_name": "Python 3",
   "language": "python",
   "name": "python3"
  },
  "language_info": {
   "codemirror_mode": {
    "name": "ipython",
    "version": 3
   },
   "file_extension": ".py",
   "mimetype": "text/x-python",
   "name": "python",
   "nbconvert_exporter": "python",
   "pygments_lexer": "ipython3",
   "version": "3.7.3"
  },
  "toc": {
   "base_numbering": 1,
   "nav_menu": {},
   "number_sections": true,
   "sideBar": true,
   "skip_h1_title": false,
   "title_cell": "Table of Contents",
   "title_sidebar": "Contents",
   "toc_cell": false,
   "toc_position": {},
   "toc_section_display": true,
   "toc_window_display": false
  }
 },
 "nbformat": 4,
 "nbformat_minor": 4
}
